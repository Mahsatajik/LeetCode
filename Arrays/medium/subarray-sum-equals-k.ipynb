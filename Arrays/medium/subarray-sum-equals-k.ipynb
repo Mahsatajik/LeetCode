{
 "cells": [
  {
   "cell_type": "markdown",
   "metadata": {},
   "source": [
    "[Question Link](https://leetcode.com/problems/subarray-sum-equals-k/description/)"
   ]
  },
  {
   "cell_type": "code",
   "execution_count": 1,
   "metadata": {},
   "outputs": [],
   "source": [
    "from typing import List\n",
    "\n",
    "class Solution:\n",
    "\tdef subarraySum(self, nums: List[int], k: int) -> int:\n",
    "\t\tresult = 0 \n",
    "\t\tprefix_sum = 0\n",
    "\t\td = {0 : 1}\n",
    "\t\tfor num in nums:\n",
    "\t\t\n",
    "\t\t\tprefix_sum = prefix_sum + num\n",
    "\t\t\tif prefix_sum - k in d:\n",
    "\t\t\t\n",
    "\t\t\t\tresult = result + d[prefix_sum - k]\n",
    "\t\t\tif prefix_sum not in d:\n",
    "\t\t\t\n",
    "\t\t\t\td[prefix_sum] = 1\n",
    "\t\t\telse:\n",
    "\t\t\t\td[prefix_sum] = d[prefix_sum] + 1\n",
    "\t\treturn result"
   ]
  },
  {
   "cell_type": "code",
   "execution_count": 2,
   "metadata": {},
   "outputs": [
    {
     "data": {
      "text/plain": [
       "2"
      ]
     },
     "execution_count": 2,
     "metadata": {},
     "output_type": "execute_result"
    }
   ],
   "source": [
    "nums = [1,1,1]\n",
    "k = 2\n",
    "Solution().subarraySum(nums, k)"
   ]
  },
  {
   "cell_type": "code",
   "execution_count": null,
   "metadata": {},
   "outputs": [],
   "source": []
  }
 ],
 "metadata": {
  "kernelspec": {
   "display_name": "Python 3",
   "language": "python",
   "name": "python3"
  },
  "language_info": {
   "codemirror_mode": {
    "name": "ipython",
    "version": 3
   },
   "file_extension": ".py",
   "mimetype": "text/x-python",
   "name": "python",
   "nbconvert_exporter": "python",
   "pygments_lexer": "ipython3",
   "version": "3.11.6"
  }
 },
 "nbformat": 4,
 "nbformat_minor": 2
}
