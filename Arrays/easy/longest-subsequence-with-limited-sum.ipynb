{
 "cells": [
  {
   "cell_type": "markdown",
   "metadata": {},
   "source": [
    " [Question Link](href='https://leetcode.com/problems/longest-subsequence-with-limited-sum')"
   ]
  },
  {
   "cell_type": "code",
   "execution_count": 2,
   "metadata": {},
   "outputs": [],
   "source": [
    "from typing import List\n",
    "from bisect import bisect_right\n",
    "from itertools import accumulate\n",
    "\n",
    "\n",
    "class Solution:\n",
    "   def answerQueries(self, nums: List[int], queries: List[int]) -> List[int]:\n",
    "       nums.sort()\n",
    "       prefix_sums = list(accumulate(nums))\n",
    "\n",
    "\n",
    "       return [bisect_right(prefix_sums, query) for query in queries]"
   ]
  },
  {
   "cell_type": "code",
   "execution_count": 7,
   "metadata": {},
   "outputs": [
    {
     "data": {
      "text/plain": [
       "[2, 4]"
      ]
     },
     "execution_count": 7,
     "metadata": {},
     "output_type": "execute_result"
    }
   ],
   "source": [
    "nums = [2, 4, 5, 9, 15, 6, 1, 8]\n",
    "queries = [6, 15]\n",
    "s = Solution()\n",
    "s.answerQueries(nums, queries)"
   ]
  }
 ],
 "metadata": {
  "kernelspec": {
   "display_name": "Python 3",
   "language": "python",
   "name": "python3"
  },
  "language_info": {
   "codemirror_mode": {
    "name": "ipython",
    "version": 3
   },
   "file_extension": ".py",
   "mimetype": "text/x-python",
   "name": "python",
   "nbconvert_exporter": "python",
   "pygments_lexer": "ipython3",
   "version": "3.11.6"
  }
 },
 "nbformat": 4,
 "nbformat_minor": 2
}
