{
 "cells": [
  {
   "cell_type": "markdown",
   "metadata": {},
   "source": [
    "[Question Link](https://leetcode.com/problems/serialize-and-deserialize-binary-tree/description/)"
   ]
  },
  {
   "cell_type": "code",
   "execution_count": 1,
   "metadata": {},
   "outputs": [],
   "source": [
    "class TreeNode:\n",
    "    def __init__(self, val=0, left=None, right=None):\n",
    "        self.val = val\n",
    "        self.left = left\n",
    "        self.right = right\n",
    "\n",
    "class Codec:\n",
    "\n",
    "    def serialize(self, root):\n",
    "        nodes = []\n",
    "        def helper1(root):\n",
    "            if not root:\n",
    "                nodes.append(\"None\")\n",
    "                return\n",
    "\n",
    "            nodes.append(str(root.val))\n",
    "            helper1(root.left)\n",
    "            helper1(root.right)\n",
    "\n",
    "        helper1(root)        \n",
    "        return \",\".join(nodes)   \n",
    "        \n",
    "\n",
    "    def deserialize(self, data):\n",
    "        data_int = data.split(\",\")\n",
    "        self.idx = 0\n",
    "        \n",
    "\n",
    "        def helper2():\n",
    "            if data_int[self.idx] == \"None\":\n",
    "                self.idx += 1\n",
    "                return None\n",
    "            root  = TreeNode(int(data_int[self.idx]))\n",
    "            self.idx += 1\n",
    "            root.left = helper2()\n",
    "            root.right = helper2()\n",
    "            return root\n",
    "        return helper2()"
   ]
  },
  {
   "cell_type": "code",
   "execution_count": 2,
   "metadata": {},
   "outputs": [
    {
     "ename": "NameError",
     "evalue": "name 'null' is not defined",
     "output_type": "error",
     "traceback": [
      "\u001b[0;31m---------------------------------------------------------------------------\u001b[0m",
      "\u001b[0;31mNameError\u001b[0m                                 Traceback (most recent call last)",
      "\u001b[1;32m/Users/omidsafarzadeh/Documents/Github/LeetCode/Tree/hard/serialize-and-deserialize-binary-tree.ipynb Cell 3\u001b[0m line \u001b[0;36m1\n\u001b[0;32m----> <a href='vscode-notebook-cell:/Users/omidsafarzadeh/Documents/Github/LeetCode/Tree/hard/serialize-and-deserialize-binary-tree.ipynb#W0sZmlsZQ%3D%3D?line=0'>1</a>\u001b[0m root \u001b[39m=\u001b[39m [\u001b[39m1\u001b[39m,\u001b[39m2\u001b[39m,\u001b[39m3\u001b[39m,null,null,\u001b[39m4\u001b[39m,\u001b[39m5\u001b[39m]\n\u001b[1;32m      <a href='vscode-notebook-cell:/Users/omidsafarzadeh/Documents/Github/LeetCode/Tree/hard/serialize-and-deserialize-binary-tree.ipynb#W0sZmlsZQ%3D%3D?line=1'>2</a>\u001b[0m Codec()\u001b[39m.\u001b[39mdeserialize(root)\n",
      "\u001b[0;31mNameError\u001b[0m: name 'null' is not defined"
     ]
    }
   ],
   "source": [
    "root = [1,2,3,null,null,4,5]\n",
    "Codec().deserialize(root)"
   ]
  },
  {
   "cell_type": "code",
   "execution_count": null,
   "metadata": {},
   "outputs": [],
   "source": []
  }
 ],
 "metadata": {
  "kernelspec": {
   "display_name": "Python 3",
   "language": "python",
   "name": "python3"
  },
  "language_info": {
   "codemirror_mode": {
    "name": "ipython",
    "version": 3
   },
   "file_extension": ".py",
   "mimetype": "text/x-python",
   "name": "python",
   "nbconvert_exporter": "python",
   "pygments_lexer": "ipython3",
   "version": "3.11.6"
  }
 },
 "nbformat": 4,
 "nbformat_minor": 2
}
