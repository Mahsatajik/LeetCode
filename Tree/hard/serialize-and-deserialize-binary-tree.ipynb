{
 "cells": [
  {
   "cell_type": "markdown",
   "metadata": {},
   "source": [
    "[Question Link](https://leetcode.com/problems/serialize-and-deserialize-binary-tree/description/)"
   ]
  },
  {
   "cell_type": "code",
   "execution_count": 11,
   "metadata": {},
   "outputs": [],
   "source": [
    "from typing import Optional\n",
    "\n",
    "class TreeNode:\n",
    "    def __init__(self, val=0, left=None, right=None):\n",
    "        self.val = val\n",
    "        self.left = left\n",
    "        self.right = right\n",
    "\n",
    "class Codec:\n",
    "    def serialize(self, root: Optional[TreeNode]) -> str:\n",
    "        def rserialize(node):\n",
    "            if node is None:\n",
    "                vals.append('None')\n",
    "            else:\n",
    "                vals.append(str(node.val))\n",
    "                rserialize(node.left)\n",
    "                rserialize(node.right)\n",
    "        \n",
    "        vals = []\n",
    "        rserialize(root)\n",
    "        return ','.join(vals)\n",
    "\n",
    "    def deserialize(self, data: str) -> Optional[TreeNode]:\n",
    "        def rdeserialize():\n",
    "            val = next(vals)\n",
    "            if val == 'None':\n",
    "                return None\n",
    "            node = TreeNode(int(val))\n",
    "            node.left = rdeserialize()\n",
    "            node.right = rdeserialize()\n",
    "            return node\n",
    "        \n",
    "        vals = iter(data.split(','))\n",
    "        return rdeserialize()"
   ]
  },
  {
   "cell_type": "code",
   "execution_count": 12,
   "metadata": {},
   "outputs": [],
   "source": [
    "def print_tree(root: Optional[TreeNode]):\n",
    "    if root is None:\n",
    "        return\n",
    "    print(root.val, end=' ')\n",
    "    print_tree(root.left)\n",
    "    print_tree(root.right)"
   ]
  },
  {
   "cell_type": "code",
   "execution_count": 13,
   "metadata": {},
   "outputs": [
    {
     "name": "stdout",
     "output_type": "stream",
     "text": [
      "Serialized tree: 1,2,None,None,3,4,None,None,5,None,None\n",
      "Deserialized tree:\n",
      "1 2 3 4 5 "
     ]
    }
   ],
   "source": [
    "root = TreeNode(1)\n",
    "root.left = TreeNode(2)\n",
    "root.right = TreeNode(3)\n",
    "root.right.left = TreeNode(4)\n",
    "root.right.right = TreeNode(5)\n",
    "\n",
    "codec = Codec()\n",
    "serialized = codec.serialize(root)\n",
    "print(\"Serialized tree:\", serialized)\n",
    "\n",
    "deserialized_root = codec.deserialize(serialized)\n",
    "print(\"Deserialized tree:\")\n",
    "print_tree(deserialized_root)"
   ]
  }
 ],
 "metadata": {
  "kernelspec": {
   "display_name": "Python 3",
   "language": "python",
   "name": "python3"
  },
  "language_info": {
   "codemirror_mode": {
    "name": "ipython",
    "version": 3
   },
   "file_extension": ".py",
   "mimetype": "text/x-python",
   "name": "python",
   "nbconvert_exporter": "python",
   "pygments_lexer": "ipython3",
   "version": "3.10.12"
  }
 },
 "nbformat": 4,
 "nbformat_minor": 2
}
