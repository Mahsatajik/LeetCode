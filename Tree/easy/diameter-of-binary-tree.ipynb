{
 "cells": [
  {
   "cell_type": "markdown",
   "metadata": {},
   "source": [
    "[Question Link](https://leetcode.com/problems/diameter-of-binary-tree/description/)"
   ]
  },
  {
   "cell_type": "code",
   "execution_count": 1,
   "metadata": {},
   "outputs": [],
   "source": [
    "from typing import Optional\n",
    "\n",
    "# Definition for a binary tree node.\n",
    "class TreeNode:\n",
    "    def __init__(self, val=0, left=None, right=None):\n",
    "        self.val = val\n",
    "        self.left = left\n",
    "        self.right = right\n",
    "class Solution:\n",
    "    def __init__(self):\n",
    "        self.max_height = 0\n",
    "\n",
    "    def height(self, root): \n",
    "        if root is None:\n",
    "            return 0\n",
    "            \n",
    "        left_hight = self.height(root.left)\n",
    "        right_height = self.height(root.right)\n",
    "\n",
    "        self.max_height = max(self.max_height, left_hight+right_height)\n",
    "        return max(left_hight, right_height) + 1\n",
    "\n",
    "    def diameterOfBinaryTree(self, root: Optional[TreeNode]) -> int:\n",
    "         \n",
    "        self.height(root)\n",
    "        return self.max_height"
   ]
  },
  {
   "cell_type": "code",
   "execution_count": 2,
   "metadata": {},
   "outputs": [
    {
     "ename": "AttributeError",
     "evalue": "'list' object has no attribute 'left'",
     "output_type": "error",
     "traceback": [
      "\u001b[0;31m---------------------------------------------------------------------------\u001b[0m",
      "\u001b[0;31mAttributeError\u001b[0m                            Traceback (most recent call last)",
      "\u001b[1;32m/Users/omidsafarzadeh/Documents/Github/LeetCode/Tree/easy/diameter-of-binary-tree.ipynb Cell 3\u001b[0m line \u001b[0;36m2\n\u001b[1;32m      <a href='vscode-notebook-cell:/Users/omidsafarzadeh/Documents/Github/LeetCode/Tree/easy/diameter-of-binary-tree.ipynb#W3sZmlsZQ%3D%3D?line=0'>1</a>\u001b[0m root \u001b[39m=\u001b[39m [\u001b[39m1\u001b[39m,\u001b[39m2\u001b[39m,\u001b[39m3\u001b[39m,\u001b[39m4\u001b[39m,\u001b[39m5\u001b[39m]\n\u001b[0;32m----> <a href='vscode-notebook-cell:/Users/omidsafarzadeh/Documents/Github/LeetCode/Tree/easy/diameter-of-binary-tree.ipynb#W3sZmlsZQ%3D%3D?line=1'>2</a>\u001b[0m Solution()\u001b[39m.\u001b[39;49mdiameterOfBinaryTree(root)\n",
      "\u001b[1;32m/Users/omidsafarzadeh/Documents/Github/LeetCode/Tree/easy/diameter-of-binary-tree.ipynb Cell 3\u001b[0m line \u001b[0;36m2\n\u001b[1;32m     <a href='vscode-notebook-cell:/Users/omidsafarzadeh/Documents/Github/LeetCode/Tree/easy/diameter-of-binary-tree.ipynb#W3sZmlsZQ%3D%3D?line=22'>23</a>\u001b[0m \u001b[39mdef\u001b[39;00m \u001b[39mdiameterOfBinaryTree\u001b[39m(\u001b[39mself\u001b[39m, root: Optional[TreeNode]) \u001b[39m-\u001b[39m\u001b[39m>\u001b[39m \u001b[39mint\u001b[39m:\n\u001b[0;32m---> <a href='vscode-notebook-cell:/Users/omidsafarzadeh/Documents/Github/LeetCode/Tree/easy/diameter-of-binary-tree.ipynb#W3sZmlsZQ%3D%3D?line=24'>25</a>\u001b[0m     \u001b[39mself\u001b[39;49m\u001b[39m.\u001b[39;49mheight(root)\n\u001b[1;32m     <a href='vscode-notebook-cell:/Users/omidsafarzadeh/Documents/Github/LeetCode/Tree/easy/diameter-of-binary-tree.ipynb#W3sZmlsZQ%3D%3D?line=25'>26</a>\u001b[0m     \u001b[39mreturn\u001b[39;00m \u001b[39mself\u001b[39m\u001b[39m.\u001b[39mmax_height\n",
      "\u001b[1;32m/Users/omidsafarzadeh/Documents/Github/LeetCode/Tree/easy/diameter-of-binary-tree.ipynb Cell 3\u001b[0m line \u001b[0;36m1\n\u001b[1;32m     <a href='vscode-notebook-cell:/Users/omidsafarzadeh/Documents/Github/LeetCode/Tree/easy/diameter-of-binary-tree.ipynb#W3sZmlsZQ%3D%3D?line=13'>14</a>\u001b[0m \u001b[39mif\u001b[39;00m root \u001b[39mis\u001b[39;00m \u001b[39mNone\u001b[39;00m:\n\u001b[1;32m     <a href='vscode-notebook-cell:/Users/omidsafarzadeh/Documents/Github/LeetCode/Tree/easy/diameter-of-binary-tree.ipynb#W3sZmlsZQ%3D%3D?line=14'>15</a>\u001b[0m     \u001b[39mreturn\u001b[39;00m \u001b[39m0\u001b[39m\n\u001b[0;32m---> <a href='vscode-notebook-cell:/Users/omidsafarzadeh/Documents/Github/LeetCode/Tree/easy/diameter-of-binary-tree.ipynb#W3sZmlsZQ%3D%3D?line=16'>17</a>\u001b[0m left_hight \u001b[39m=\u001b[39m \u001b[39mself\u001b[39m\u001b[39m.\u001b[39mheight(root\u001b[39m.\u001b[39;49mleft)\n\u001b[1;32m     <a href='vscode-notebook-cell:/Users/omidsafarzadeh/Documents/Github/LeetCode/Tree/easy/diameter-of-binary-tree.ipynb#W3sZmlsZQ%3D%3D?line=17'>18</a>\u001b[0m right_height \u001b[39m=\u001b[39m \u001b[39mself\u001b[39m\u001b[39m.\u001b[39mheight(root\u001b[39m.\u001b[39mright)\n\u001b[1;32m     <a href='vscode-notebook-cell:/Users/omidsafarzadeh/Documents/Github/LeetCode/Tree/easy/diameter-of-binary-tree.ipynb#W3sZmlsZQ%3D%3D?line=19'>20</a>\u001b[0m \u001b[39mself\u001b[39m\u001b[39m.\u001b[39mmax_height \u001b[39m=\u001b[39m \u001b[39mmax\u001b[39m(\u001b[39mself\u001b[39m\u001b[39m.\u001b[39mmax_height, left_hight\u001b[39m+\u001b[39mright_height)\n",
      "\u001b[0;31mAttributeError\u001b[0m: 'list' object has no attribute 'left'"
     ]
    }
   ],
   "source": [
    "root = [1,2,3,4,5]\n",
    "Solution().diameterOfBinaryTree(root)"
   ]
  },
  {
   "cell_type": "code",
   "execution_count": null,
   "metadata": {},
   "outputs": [],
   "source": []
  }
 ],
 "metadata": {
  "kernelspec": {
   "display_name": "Python 3",
   "language": "python",
   "name": "python3"
  },
  "language_info": {
   "codemirror_mode": {
    "name": "ipython",
    "version": 3
   },
   "file_extension": ".py",
   "mimetype": "text/x-python",
   "name": "python",
   "nbconvert_exporter": "python",
   "pygments_lexer": "ipython3",
   "version": "3.11.6"
  }
 },
 "nbformat": 4,
 "nbformat_minor": 2
}
