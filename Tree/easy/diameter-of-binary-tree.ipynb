{
 "cells": [
  {
   "cell_type": "markdown",
   "metadata": {},
   "source": [
    "[Question Link](https://leetcode.com/problems/diameter-of-binary-tree/description/)"
   ]
  },
  {
   "cell_type": "code",
   "execution_count": 14,
   "metadata": {},
   "outputs": [],
   "source": [
    "from typing import Optional, List\n",
    "\n",
    "class TreeNode:\n",
    "    def __init__(self, val=0, left=None, right=None):\n",
    "        self.val = val\n",
    "        self.left = left\n",
    "        self.right = right\n",
    "class Solution:\n",
    "    def __init__(self):\n",
    "        self.max_height = 0\n",
    "\n",
    "    def height(self, root): \n",
    "        if root is None:\n",
    "            return 0\n",
    "            \n",
    "        left_hight = self.height(root.left)\n",
    "        right_height = self.height(root.right)\n",
    "\n",
    "        self.max_height = max(self.max_height, left_hight+right_height)\n",
    "        return max(left_hight, right_height) + 1\n",
    "\n",
    "    def diameterOfBinaryTree(self, root: Optional[TreeNode]) -> int:\n",
    "         \n",
    "        self.height(root)\n",
    "        return self.max_height\n",
    "    \n",
    "def list_to_tree(lst: List[int]) -> Optional[TreeNode]:\n",
    "    if not lst:\n",
    "        return None\n",
    "    nodes = [TreeNode(val) if val is not None else None for val in lst]\n",
    "    kids = nodes[::-1]\n",
    "    root = kids.pop()\n",
    "    for node in nodes:\n",
    "        if node:\n",
    "            if kids: node.left = kids.pop()\n",
    "            if kids: node.right = kids.pop()\n",
    "    return root"
   ]
  },
  {
   "cell_type": "code",
   "execution_count": 15,
   "metadata": {},
   "outputs": [
    {
     "data": {
      "text/plain": [
       "3"
      ]
     },
     "execution_count": 15,
     "metadata": {},
     "output_type": "execute_result"
    }
   ],
   "source": [
    "root_list = [1, 2, 3, 4, 5]\n",
    "root = list_to_tree(root_list)\n",
    "Solution().diameterOfBinaryTree(root)"
   ]
  },
  {
   "cell_type": "code",
   "execution_count": null,
   "metadata": {},
   "outputs": [],
   "source": []
  }
 ],
 "metadata": {
  "kernelspec": {
   "display_name": "Python 3",
   "language": "python",
   "name": "python3"
  },
  "language_info": {
   "codemirror_mode": {
    "name": "ipython",
    "version": 3
   },
   "file_extension": ".py",
   "mimetype": "text/x-python",
   "name": "python",
   "nbconvert_exporter": "python",
   "pygments_lexer": "ipython3",
   "version": "3.10.12"
  }
 },
 "nbformat": 4,
 "nbformat_minor": 2
}
