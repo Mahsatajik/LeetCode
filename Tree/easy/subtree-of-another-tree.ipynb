{
 "cells": [
  {
   "cell_type": "markdown",
   "metadata": {},
   "source": [
    "[Question Link](https://leetcode.com/problems/subtree-of-another-tree/description/)"
   ]
  },
  {
   "cell_type": "code",
   "execution_count": 2,
   "metadata": {},
   "outputs": [],
   "source": [
    "from typing import Optional\n",
    "\n",
    "# Definition for a binary tree node.\n",
    "class TreeNode:\n",
    "    def __init__(self, val=0, left=None, right=None):\n",
    "        self.val = val\n",
    "        self.left = left\n",
    "        self.right = right\n",
    "class Solution:\n",
    "\n",
    "    def isSameTree(self, p: Optional[TreeNode], q: Optional[TreeNode]) -> bool: \n",
    "        if (p is None and q is not None) or (q is None and p is not None):\n",
    "            return False\n",
    "        if p and q:\n",
    "            if p.val == q.val:\n",
    "                return (self.isSameTree(p.left, q.left)) and (self.isSameTree(p.right, q.right))\n",
    "        else:\n",
    "            return p==q\n",
    "        \n",
    "\n",
    "    def isSubtree(self, root: Optional[TreeNode], subRoot: Optional[TreeNode]) -> bool:\n",
    "        if subRoot is None:\n",
    "            return True\n",
    "        if root is None:\n",
    "            return False\n",
    "\n",
    "        if self.isSameTree(root, subRoot):\n",
    "            return True\n",
    "        return self.isSubtree(root.right, subRoot) or self.isSubtree(root.left, subRoot)"
   ]
  },
  {
   "cell_type": "code",
   "execution_count": 4,
   "metadata": {},
   "outputs": [
    {
     "ename": "AttributeError",
     "evalue": "'list' object has no attribute 'val'",
     "output_type": "error",
     "traceback": [
      "\u001b[0;31m---------------------------------------------------------------------------\u001b[0m",
      "\u001b[0;31mAttributeError\u001b[0m                            Traceback (most recent call last)",
      "\u001b[1;32m/Users/omidsafarzadeh/Documents/Github/LeetCode/Tree/easy/subtree-of-another-tree.ipynb Cell 3\u001b[0m line \u001b[0;36m3\n\u001b[1;32m      <a href='vscode-notebook-cell:/Users/omidsafarzadeh/Documents/Github/LeetCode/Tree/easy/subtree-of-another-tree.ipynb#W2sZmlsZQ%3D%3D?line=0'>1</a>\u001b[0m root \u001b[39m=\u001b[39m [\u001b[39m3\u001b[39m,\u001b[39m4\u001b[39m,\u001b[39m5\u001b[39m,\u001b[39m1\u001b[39m,\u001b[39m2\u001b[39m]\n\u001b[1;32m      <a href='vscode-notebook-cell:/Users/omidsafarzadeh/Documents/Github/LeetCode/Tree/easy/subtree-of-another-tree.ipynb#W2sZmlsZQ%3D%3D?line=1'>2</a>\u001b[0m subRoot \u001b[39m=\u001b[39m [\u001b[39m4\u001b[39m,\u001b[39m1\u001b[39m,\u001b[39m2\u001b[39m]\n\u001b[0;32m----> <a href='vscode-notebook-cell:/Users/omidsafarzadeh/Documents/Github/LeetCode/Tree/easy/subtree-of-another-tree.ipynb#W2sZmlsZQ%3D%3D?line=2'>3</a>\u001b[0m Solution()\u001b[39m.\u001b[39;49misSubtree(root, subRoot)\n",
      "\u001b[1;32m/Users/omidsafarzadeh/Documents/Github/LeetCode/Tree/easy/subtree-of-another-tree.ipynb Cell 3\u001b[0m line \u001b[0;36m2\n\u001b[1;32m     <a href='vscode-notebook-cell:/Users/omidsafarzadeh/Documents/Github/LeetCode/Tree/easy/subtree-of-another-tree.ipynb#W2sZmlsZQ%3D%3D?line=23'>24</a>\u001b[0m \u001b[39mif\u001b[39;00m root \u001b[39mis\u001b[39;00m \u001b[39mNone\u001b[39;00m:\n\u001b[1;32m     <a href='vscode-notebook-cell:/Users/omidsafarzadeh/Documents/Github/LeetCode/Tree/easy/subtree-of-another-tree.ipynb#W2sZmlsZQ%3D%3D?line=24'>25</a>\u001b[0m     \u001b[39mreturn\u001b[39;00m \u001b[39mFalse\u001b[39;00m\n\u001b[0;32m---> <a href='vscode-notebook-cell:/Users/omidsafarzadeh/Documents/Github/LeetCode/Tree/easy/subtree-of-another-tree.ipynb#W2sZmlsZQ%3D%3D?line=26'>27</a>\u001b[0m \u001b[39mif\u001b[39;00m \u001b[39mself\u001b[39;49m\u001b[39m.\u001b[39;49misSameTree(root, subRoot):\n\u001b[1;32m     <a href='vscode-notebook-cell:/Users/omidsafarzadeh/Documents/Github/LeetCode/Tree/easy/subtree-of-another-tree.ipynb#W2sZmlsZQ%3D%3D?line=27'>28</a>\u001b[0m     \u001b[39mreturn\u001b[39;00m \u001b[39mTrue\u001b[39;00m\n\u001b[1;32m     <a href='vscode-notebook-cell:/Users/omidsafarzadeh/Documents/Github/LeetCode/Tree/easy/subtree-of-another-tree.ipynb#W2sZmlsZQ%3D%3D?line=28'>29</a>\u001b[0m \u001b[39mreturn\u001b[39;00m \u001b[39mself\u001b[39m\u001b[39m.\u001b[39misSubtree(root\u001b[39m.\u001b[39mright, subRoot) \u001b[39mor\u001b[39;00m \u001b[39mself\u001b[39m\u001b[39m.\u001b[39misSubtree(root\u001b[39m.\u001b[39mleft, subRoot)\n",
      "\u001b[1;32m/Users/omidsafarzadeh/Documents/Github/LeetCode/Tree/easy/subtree-of-another-tree.ipynb Cell 3\u001b[0m line \u001b[0;36m1\n\u001b[1;32m     <a href='vscode-notebook-cell:/Users/omidsafarzadeh/Documents/Github/LeetCode/Tree/easy/subtree-of-another-tree.ipynb#W2sZmlsZQ%3D%3D?line=12'>13</a>\u001b[0m     \u001b[39mreturn\u001b[39;00m \u001b[39mFalse\u001b[39;00m\n\u001b[1;32m     <a href='vscode-notebook-cell:/Users/omidsafarzadeh/Documents/Github/LeetCode/Tree/easy/subtree-of-another-tree.ipynb#W2sZmlsZQ%3D%3D?line=13'>14</a>\u001b[0m \u001b[39mif\u001b[39;00m p \u001b[39mand\u001b[39;00m q:\n\u001b[0;32m---> <a href='vscode-notebook-cell:/Users/omidsafarzadeh/Documents/Github/LeetCode/Tree/easy/subtree-of-another-tree.ipynb#W2sZmlsZQ%3D%3D?line=14'>15</a>\u001b[0m     \u001b[39mif\u001b[39;00m p\u001b[39m.\u001b[39;49mval \u001b[39m==\u001b[39m q\u001b[39m.\u001b[39mval:\n\u001b[1;32m     <a href='vscode-notebook-cell:/Users/omidsafarzadeh/Documents/Github/LeetCode/Tree/easy/subtree-of-another-tree.ipynb#W2sZmlsZQ%3D%3D?line=15'>16</a>\u001b[0m         \u001b[39mreturn\u001b[39;00m (\u001b[39mself\u001b[39m\u001b[39m.\u001b[39misSameTree(p\u001b[39m.\u001b[39mleft, q\u001b[39m.\u001b[39mleft)) \u001b[39mand\u001b[39;00m (\u001b[39mself\u001b[39m\u001b[39m.\u001b[39misSameTree(p\u001b[39m.\u001b[39mright, q\u001b[39m.\u001b[39mright))\n\u001b[1;32m     <a href='vscode-notebook-cell:/Users/omidsafarzadeh/Documents/Github/LeetCode/Tree/easy/subtree-of-another-tree.ipynb#W2sZmlsZQ%3D%3D?line=16'>17</a>\u001b[0m \u001b[39melse\u001b[39;00m:\n",
      "\u001b[0;31mAttributeError\u001b[0m: 'list' object has no attribute 'val'"
     ]
    }
   ],
   "source": [
    "root = [3,4,5,1,2]\n",
    "subRoot = [4,1,2]\n",
    "Solution().isSubtree(root, subRoot)"
   ]
  },
  {
   "cell_type": "code",
   "execution_count": null,
   "metadata": {},
   "outputs": [],
   "source": []
  }
 ],
 "metadata": {
  "kernelspec": {
   "display_name": "Python 3",
   "language": "python",
   "name": "python3"
  },
  "language_info": {
   "codemirror_mode": {
    "name": "ipython",
    "version": 3
   },
   "file_extension": ".py",
   "mimetype": "text/x-python",
   "name": "python",
   "nbconvert_exporter": "python",
   "pygments_lexer": "ipython3",
   "version": "3.11.6"
  }
 },
 "nbformat": 4,
 "nbformat_minor": 2
}
