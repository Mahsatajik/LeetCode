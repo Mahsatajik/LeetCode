{
 "cells": [
  {
   "cell_type": "markdown",
   "metadata": {},
   "source": [
    "[Question Link](https://leetcode.com/problems/subtree-of-another-tree/description/)"
   ]
  },
  {
   "cell_type": "code",
   "execution_count": 1,
   "metadata": {},
   "outputs": [],
   "source": [
    "from typing import Optional\n",
    "\n",
    "# Definition for a binary tree node.\n",
    "class TreeNode:\n",
    "    def __init__(self, val=0, left=None, right=None):\n",
    "        self.val = val\n",
    "        self.left = left\n",
    "        self.right = right\n",
    "class Solution:\n",
    "\n",
    "    def isSameTree(self, p: Optional[TreeNode], q: Optional[TreeNode]) -> bool: \n",
    "        if (p is None and q is not None) or (q is None and p is not None):\n",
    "            return False\n",
    "        if p and q:\n",
    "            if p.val == q.val:\n",
    "                return (self.isSameTree(p.left, q.left)) and (self.isSameTree(p.right, q.right))\n",
    "        else:\n",
    "            return p==q\n",
    "        \n",
    "\n",
    "    def isSubtree(self, root: Optional[TreeNode], subRoot: Optional[TreeNode]) -> bool:\n",
    "        if subRoot is None:\n",
    "            return True\n",
    "        if root is None:\n",
    "            return False\n",
    "\n",
    "        if self.isSameTree(root, subRoot):\n",
    "            return True\n",
    "        return self.isSubtree(root.right, subRoot) or self.isSubtree(root.left, subRoot)"
   ]
  },
  {
   "cell_type": "code",
   "execution_count": 3,
   "metadata": {},
   "outputs": [
    {
     "data": {
      "text/plain": [
       "True"
      ]
     },
     "execution_count": 3,
     "metadata": {},
     "output_type": "execute_result"
    }
   ],
   "source": [
    "root = TreeNode(3)\n",
    "root.left = TreeNode(4)\n",
    "root.right = TreeNode(5)\n",
    "root.left.left = TreeNode(1)\n",
    "root.left.right = TreeNode(2)\n",
    "subRoot = TreeNode(4)\n",
    "subRoot.left = TreeNode(1)\n",
    "subRoot.right = TreeNode(2)\n",
    "\n",
    "Solution().isSubtree(root, subRoot)"
   ]
  },
  {
   "cell_type": "code",
   "execution_count": null,
   "metadata": {},
   "outputs": [],
   "source": []
  }
 ],
 "metadata": {
  "kernelspec": {
   "display_name": "Python 3",
   "language": "python",
   "name": "python3"
  },
  "language_info": {
   "codemirror_mode": {
    "name": "ipython",
    "version": 3
   },
   "file_extension": ".py",
   "mimetype": "text/x-python",
   "name": "python",
   "nbconvert_exporter": "python",
   "pygments_lexer": "ipython3",
   "version": "3.10.12"
  }
 },
 "nbformat": 4,
 "nbformat_minor": 2
}
