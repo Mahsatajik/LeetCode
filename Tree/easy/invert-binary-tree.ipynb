{
 "cells": [
  {
   "cell_type": "markdown",
   "metadata": {},
   "source": [
    "[Question Link](https://leetcode.com/problems/invert-binary-tree/description/)"
   ]
  },
  {
   "cell_type": "code",
   "execution_count": 9,
   "metadata": {},
   "outputs": [],
   "source": [
    "from typing import Optional, List\n",
    "\n",
    "# Definition for a binary tree node.\n",
    "class TreeNode:\n",
    "    def __init__(self, val=0, left=None, right=None):\n",
    "        self.val = val\n",
    "        self.left = left\n",
    "        self.right = right\n",
    "class Solution:\n",
    "    def invertTree(self, root: Optional[TreeNode]) -> Optional[TreeNode]:\n",
    "        if root == None:\n",
    "            return None\n",
    "        \n",
    "        root.left, root.right = self.invertTree(root.right),self.invertTree(root.left)\n",
    "        return root\n",
    "\n"
   ]
  },
  {
   "cell_type": "code",
   "execution_count": 15,
   "metadata": {},
   "outputs": [],
   "source": [
    "def list_to_tree(lst: List[Optional[int]]) -> Optional[TreeNode]:\n",
    "    if not lst:\n",
    "        return None\n",
    "    nodes = [TreeNode(val) if val is not None else None for val in lst]\n",
    "    kids = nodes[::-1]\n",
    "    root = kids.pop()\n",
    "    for node in nodes:\n",
    "        if node:\n",
    "            if kids: node.left = kids.pop()\n",
    "            if kids: node.right = kids.pop()\n",
    "    return root"
   ]
  },
  {
   "cell_type": "code",
   "execution_count": 16,
   "metadata": {},
   "outputs": [],
   "source": [
    "def print_tree(root: Optional[TreeNode]):\n",
    "    if root is None:\n",
    "        return\n",
    "    print(root.val, end=' ')\n",
    "    print_tree(root.left)\n",
    "    print_tree(root.right)"
   ]
  },
  {
   "cell_type": "code",
   "execution_count": 17,
   "metadata": {},
   "outputs": [
    {
     "name": "stdout",
     "output_type": "stream",
     "text": [
      "Original tree:\n",
      "4 2 1 3 7 6 9 \n",
      "Inverted tree:\n",
      "4 7 9 6 2 3 1 "
     ]
    }
   ],
   "source": [
    "root_list = [4, 2, 7, 1, 3, 6, 9]\n",
    "root = list_to_tree(root_list)\n",
    "\n",
    "print(\"Original tree:\")\n",
    "print_tree(root)\n",
    "\n",
    "solution = Solution()\n",
    "inverted_root = solution.invertTree(root)\n",
    "\n",
    "print(\"\\nInverted tree:\")\n",
    "print_tree(inverted_root)"
   ]
  }
 ],
 "metadata": {
  "kernelspec": {
   "display_name": "Python 3",
   "language": "python",
   "name": "python3"
  },
  "language_info": {
   "codemirror_mode": {
    "name": "ipython",
    "version": 3
   },
   "file_extension": ".py",
   "mimetype": "text/x-python",
   "name": "python",
   "nbconvert_exporter": "python",
   "pygments_lexer": "ipython3",
   "version": "3.10.12"
  }
 },
 "nbformat": 4,
 "nbformat_minor": 2
}
