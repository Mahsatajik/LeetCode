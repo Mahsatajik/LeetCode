{
 "cells": [
  {
   "cell_type": "markdown",
   "metadata": {},
   "source": [
    "[Question Link](https://leetcode.com/problems/lowest-common-ancestor-of-a-binary-search-tree/description/)"
   ]
  },
  {
   "cell_type": "code",
   "execution_count": 1,
   "metadata": {},
   "outputs": [],
   "source": [
    "# Definition for a binary tree node.\n",
    "class TreeNode:\n",
    "    def __init__(self, x):\n",
    "        self.val = x\n",
    "        self.left = None\n",
    "        self.right = None\n",
    "\n",
    "class Solution:\n",
    "    def lowestCommonAncestor(self, root: 'TreeNode', p: 'TreeNode', q: 'TreeNode') -> 'TreeNode':\n",
    "        \n",
    "        if p.val <= root.val <= q.val or q.val <= root.val <= p.val:\n",
    "            return root\n",
    "        elif root.val > p.val and root.val > q.val:\n",
    "            lca = self.lowestCommonAncestor(root.left, p,q)\n",
    "        else:\n",
    "            lca = self.lowestCommonAncestor(root.right, p,q)\n",
    "        \n",
    "        return lca"
   ]
  },
  {
   "cell_type": "code",
   "execution_count": 2,
   "metadata": {},
   "outputs": [
    {
     "ename": "NameError",
     "evalue": "name 'null' is not defined",
     "output_type": "error",
     "traceback": [
      "\u001b[0;31m---------------------------------------------------------------------------\u001b[0m",
      "\u001b[0;31mNameError\u001b[0m                                 Traceback (most recent call last)",
      "\u001b[1;32m/Users/omidsafarzadeh/Documents/Github/LeetCode/Tree/medium/lowest-common-ancestor-of-a-binary-search-tree.ipynb Cell 3\u001b[0m line \u001b[0;36m1\n\u001b[0;32m----> <a href='vscode-notebook-cell:/Users/omidsafarzadeh/Documents/Github/LeetCode/Tree/medium/lowest-common-ancestor-of-a-binary-search-tree.ipynb#W0sZmlsZQ%3D%3D?line=0'>1</a>\u001b[0m root \u001b[39m=\u001b[39m [\u001b[39m6\u001b[39m,\u001b[39m2\u001b[39m,\u001b[39m8\u001b[39m,\u001b[39m0\u001b[39m,\u001b[39m4\u001b[39m,\u001b[39m7\u001b[39m,\u001b[39m9\u001b[39m,null,null,\u001b[39m3\u001b[39m,\u001b[39m5\u001b[39m]\n\u001b[1;32m      <a href='vscode-notebook-cell:/Users/omidsafarzadeh/Documents/Github/LeetCode/Tree/medium/lowest-common-ancestor-of-a-binary-search-tree.ipynb#W0sZmlsZQ%3D%3D?line=1'>2</a>\u001b[0m p \u001b[39m=\u001b[39m \u001b[39m2\u001b[39m\n\u001b[1;32m      <a href='vscode-notebook-cell:/Users/omidsafarzadeh/Documents/Github/LeetCode/Tree/medium/lowest-common-ancestor-of-a-binary-search-tree.ipynb#W0sZmlsZQ%3D%3D?line=2'>3</a>\u001b[0m q \u001b[39m=\u001b[39m \u001b[39m8\u001b[39m\n",
      "\u001b[0;31mNameError\u001b[0m: name 'null' is not defined"
     ]
    }
   ],
   "source": [
    "root = [6,2,8,0,4,7,9,null,null,3,5]\n",
    "p = 2\n",
    "q = 8\n",
    "Solution().lowestCommonAncestor(root, p, q)"
   ]
  },
  {
   "cell_type": "code",
   "execution_count": null,
   "metadata": {},
   "outputs": [],
   "source": []
  }
 ],
 "metadata": {
  "kernelspec": {
   "display_name": "Python 3",
   "language": "python",
   "name": "python3"
  },
  "language_info": {
   "codemirror_mode": {
    "name": "ipython",
    "version": 3
   },
   "file_extension": ".py",
   "mimetype": "text/x-python",
   "name": "python",
   "nbconvert_exporter": "python",
   "pygments_lexer": "ipython3",
   "version": "3.11.6"
  }
 },
 "nbformat": 4,
 "nbformat_minor": 2
}
