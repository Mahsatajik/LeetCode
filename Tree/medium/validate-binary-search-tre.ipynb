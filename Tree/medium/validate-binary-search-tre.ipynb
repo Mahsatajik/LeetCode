{
 "cells": [
  {
   "cell_type": "markdown",
   "metadata": {},
   "source": [
    "[Question Link](https://leetcode.com/problems/validate-binary-search-tree/description/)"
   ]
  },
  {
   "cell_type": "code",
   "execution_count": 1,
   "metadata": {},
   "outputs": [],
   "source": [
    "from typing import Optional\n",
    "\n",
    "# Definition for a binary tree node.\n",
    "class TreeNode:\n",
    "    def __init__(self, val=0, left=None, right=None):\n",
    "        self.val = val\n",
    "        self.left = left\n",
    "        self.right = right\n",
    "class Solution:\n",
    "    def isValidBST(self, root: Optional[TreeNode]) -> bool:\n",
    "\n",
    "        def traverse(root, min_val, max_val):\n",
    "            \n",
    "            if root is None:\n",
    "                return True\n",
    "\n",
    "            if root.val <= min_val or root.val >= max_val:\n",
    "                return False\n",
    "                \n",
    "            return traverse(root.left, min_val, root.val) and traverse(root.right, root.val, max_val)\n",
    "        \n",
    "        return traverse(root, float('-inf'), float('inf'))"
   ]
  },
  {
   "cell_type": "code",
   "execution_count": 2,
   "metadata": {},
   "outputs": [
    {
     "ename": "AttributeError",
     "evalue": "'list' object has no attribute 'val'",
     "output_type": "error",
     "traceback": [
      "\u001b[0;31m---------------------------------------------------------------------------\u001b[0m",
      "\u001b[0;31mAttributeError\u001b[0m                            Traceback (most recent call last)",
      "\u001b[1;32m/Users/omidsafarzadeh/Documents/Github/LeetCode/Tree/medium/validate-binary-search-tre.ipynb Cell 3\u001b[0m line \u001b[0;36m2\n\u001b[1;32m      <a href='vscode-notebook-cell:/Users/omidsafarzadeh/Documents/Github/LeetCode/Tree/medium/validate-binary-search-tre.ipynb#W0sZmlsZQ%3D%3D?line=0'>1</a>\u001b[0m root \u001b[39m=\u001b[39m [\u001b[39m2\u001b[39m,\u001b[39m1\u001b[39m,\u001b[39m3\u001b[39m]\n\u001b[0;32m----> <a href='vscode-notebook-cell:/Users/omidsafarzadeh/Documents/Github/LeetCode/Tree/medium/validate-binary-search-tre.ipynb#W0sZmlsZQ%3D%3D?line=1'>2</a>\u001b[0m Solution()\u001b[39m.\u001b[39;49misValidBST(root)\n",
      "\u001b[1;32m/Users/omidsafarzadeh/Documents/Github/LeetCode/Tree/medium/validate-binary-search-tre.ipynb Cell 3\u001b[0m line \u001b[0;36m2\n\u001b[1;32m     <a href='vscode-notebook-cell:/Users/omidsafarzadeh/Documents/Github/LeetCode/Tree/medium/validate-binary-search-tre.ipynb#W0sZmlsZQ%3D%3D?line=17'>18</a>\u001b[0m         \u001b[39mreturn\u001b[39;00m \u001b[39mFalse\u001b[39;00m\n\u001b[1;32m     <a href='vscode-notebook-cell:/Users/omidsafarzadeh/Documents/Github/LeetCode/Tree/medium/validate-binary-search-tre.ipynb#W0sZmlsZQ%3D%3D?line=19'>20</a>\u001b[0m     \u001b[39mreturn\u001b[39;00m traverse(root\u001b[39m.\u001b[39mleft, min_val, root\u001b[39m.\u001b[39mval) \u001b[39mand\u001b[39;00m traverse(root\u001b[39m.\u001b[39mright, root\u001b[39m.\u001b[39mval, max_val)\n\u001b[0;32m---> <a href='vscode-notebook-cell:/Users/omidsafarzadeh/Documents/Github/LeetCode/Tree/medium/validate-binary-search-tre.ipynb#W0sZmlsZQ%3D%3D?line=21'>22</a>\u001b[0m \u001b[39mreturn\u001b[39;00m traverse(root, \u001b[39mfloat\u001b[39;49m(\u001b[39m'\u001b[39;49m\u001b[39m-inf\u001b[39;49m\u001b[39m'\u001b[39;49m), \u001b[39mfloat\u001b[39;49m(\u001b[39m'\u001b[39;49m\u001b[39minf\u001b[39;49m\u001b[39m'\u001b[39;49m))\n",
      "\u001b[1;32m/Users/omidsafarzadeh/Documents/Github/LeetCode/Tree/medium/validate-binary-search-tre.ipynb Cell 3\u001b[0m line \u001b[0;36m1\n\u001b[1;32m     <a href='vscode-notebook-cell:/Users/omidsafarzadeh/Documents/Github/LeetCode/Tree/medium/validate-binary-search-tre.ipynb#W0sZmlsZQ%3D%3D?line=13'>14</a>\u001b[0m \u001b[39mif\u001b[39;00m root \u001b[39mis\u001b[39;00m \u001b[39mNone\u001b[39;00m:\n\u001b[1;32m     <a href='vscode-notebook-cell:/Users/omidsafarzadeh/Documents/Github/LeetCode/Tree/medium/validate-binary-search-tre.ipynb#W0sZmlsZQ%3D%3D?line=14'>15</a>\u001b[0m     \u001b[39mreturn\u001b[39;00m \u001b[39mTrue\u001b[39;00m\n\u001b[0;32m---> <a href='vscode-notebook-cell:/Users/omidsafarzadeh/Documents/Github/LeetCode/Tree/medium/validate-binary-search-tre.ipynb#W0sZmlsZQ%3D%3D?line=16'>17</a>\u001b[0m \u001b[39mif\u001b[39;00m root\u001b[39m.\u001b[39;49mval \u001b[39m<\u001b[39m\u001b[39m=\u001b[39m min_val \u001b[39mor\u001b[39;00m root\u001b[39m.\u001b[39mval \u001b[39m>\u001b[39m\u001b[39m=\u001b[39m max_val:\n\u001b[1;32m     <a href='vscode-notebook-cell:/Users/omidsafarzadeh/Documents/Github/LeetCode/Tree/medium/validate-binary-search-tre.ipynb#W0sZmlsZQ%3D%3D?line=17'>18</a>\u001b[0m     \u001b[39mreturn\u001b[39;00m \u001b[39mFalse\u001b[39;00m\n\u001b[1;32m     <a href='vscode-notebook-cell:/Users/omidsafarzadeh/Documents/Github/LeetCode/Tree/medium/validate-binary-search-tre.ipynb#W0sZmlsZQ%3D%3D?line=19'>20</a>\u001b[0m \u001b[39mreturn\u001b[39;00m traverse(root\u001b[39m.\u001b[39mleft, min_val, root\u001b[39m.\u001b[39mval) \u001b[39mand\u001b[39;00m traverse(root\u001b[39m.\u001b[39mright, root\u001b[39m.\u001b[39mval, max_val)\n",
      "\u001b[0;31mAttributeError\u001b[0m: 'list' object has no attribute 'val'"
     ]
    }
   ],
   "source": [
    "root = [2,1,3]\n",
    "Solution().isValidBST(root)"
   ]
  },
  {
   "cell_type": "code",
   "execution_count": null,
   "metadata": {},
   "outputs": [],
   "source": []
  }
 ],
 "metadata": {
  "kernelspec": {
   "display_name": "Python 3",
   "language": "python",
   "name": "python3"
  },
  "language_info": {
   "codemirror_mode": {
    "name": "ipython",
    "version": 3
   },
   "file_extension": ".py",
   "mimetype": "text/x-python",
   "name": "python",
   "nbconvert_exporter": "python",
   "pygments_lexer": "ipython3",
   "version": "3.11.6"
  }
 },
 "nbformat": 4,
 "nbformat_minor": 2
}
