{
 "cells": [
  {
   "cell_type": "markdown",
   "metadata": {},
   "source": [
    "[Question Link](https://leetcode.com/problems/binary-tree-level-order-traversal/description/)"
   ]
  },
  {
   "cell_type": "code",
   "execution_count": 2,
   "metadata": {},
   "outputs": [],
   "source": [
    "from typing import Optional, List, defaultdict\n",
    "\n",
    "\n",
    "# Definition for a binary tree node.\n",
    "class TreeNode:\n",
    "    def __init__(self, val=0, left=None, right=None):\n",
    "        self.val = val\n",
    "        self.left = left\n",
    "        self.right = right\n",
    "class Solution:\n",
    "    def levelOrder(self, root: Optional[TreeNode]) -> List[List[int]]:\n",
    "        \n",
    "        res = defaultdict(list)\n",
    "\n",
    "        def DFS(root, list_idx):\n",
    "            if root == None:\n",
    "                return \n",
    "            res[list_idx].append(root.val)\n",
    "\n",
    "            DFS(root.left,list_idx+1)\n",
    "            DFS(root.right,list_idx+1)\n",
    "\n",
    "\n",
    "        DFS(root,0)\n",
    "        return res.values()"
   ]
  },
  {
   "cell_type": "code",
   "execution_count": 3,
   "metadata": {},
   "outputs": [
    {
     "ename": "NameError",
     "evalue": "name 'null' is not defined",
     "output_type": "error",
     "traceback": [
      "\u001b[0;31m---------------------------------------------------------------------------\u001b[0m",
      "\u001b[0;31mNameError\u001b[0m                                 Traceback (most recent call last)",
      "\u001b[1;32m/Users/omidsafarzadeh/Documents/Github/LeetCode/Tree/medium/binary-tree-level-order-traversal.ipynb Cell 3\u001b[0m line \u001b[0;36m1\n\u001b[0;32m----> <a href='vscode-notebook-cell:/Users/omidsafarzadeh/Documents/Github/LeetCode/Tree/medium/binary-tree-level-order-traversal.ipynb#W0sZmlsZQ%3D%3D?line=0'>1</a>\u001b[0m root \u001b[39m=\u001b[39m [\u001b[39m3\u001b[39m,\u001b[39m9\u001b[39m,\u001b[39m20\u001b[39m,null,null,\u001b[39m15\u001b[39m,\u001b[39m7\u001b[39m]\n\u001b[1;32m      <a href='vscode-notebook-cell:/Users/omidsafarzadeh/Documents/Github/LeetCode/Tree/medium/binary-tree-level-order-traversal.ipynb#W0sZmlsZQ%3D%3D?line=1'>2</a>\u001b[0m Solution()\u001b[39m.\u001b[39mlevelOrder(root)\n",
      "\u001b[0;31mNameError\u001b[0m: name 'null' is not defined"
     ]
    }
   ],
   "source": [
    "root = [3,9,20,null,null,15,7]\n",
    "Solution().levelOrder(root)"
   ]
  },
  {
   "cell_type": "code",
   "execution_count": null,
   "metadata": {},
   "outputs": [],
   "source": []
  }
 ],
 "metadata": {
  "kernelspec": {
   "display_name": "Python 3",
   "language": "python",
   "name": "python3"
  },
  "language_info": {
   "codemirror_mode": {
    "name": "ipython",
    "version": 3
   },
   "file_extension": ".py",
   "mimetype": "text/x-python",
   "name": "python",
   "nbconvert_exporter": "python",
   "pygments_lexer": "ipython3",
   "version": "3.11.6"
  }
 },
 "nbformat": 4,
 "nbformat_minor": 2
}
