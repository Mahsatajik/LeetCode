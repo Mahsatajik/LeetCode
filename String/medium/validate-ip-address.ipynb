{
 "cells": [
  {
   "cell_type": "markdown",
   "metadata": {},
   "source": [
    "[Question Link](https://leetcode.com/problems/validate-ip-address/description/)"
   ]
  },
  {
   "cell_type": "code",
   "execution_count": 1,
   "metadata": {},
   "outputs": [],
   "source": [
    "class Solution:\n",
    "    \n",
    "    def validate_IPv4(self, s):\n",
    "        try: \n",
    "            return str(int(s)) == s and 0 <= int(s) <= 255\n",
    "        except: \n",
    "            return False\n",
    "\n",
    "    def validate_IPv6(self, s):\n",
    "        try: \n",
    "            return len(s) <= 4 and int(s, 16) >= 0\n",
    "        except: \n",
    "            return False\n",
    "            \n",
    "    def validIPAddress(self, queryIP: str) -> str:\n",
    "\n",
    "        if queryIP.count(\".\") == 3 and all(self.validate_IPv4(i) for i in queryIP.split(\".\")):\n",
    "            return \"IPv4\"\n",
    "        if queryIP.count(\":\") == 7 and all(self.validate_IPv6(i) for i in queryIP.split(\":\")):\n",
    "            return \"IPv6\"\n",
    "        return \"Neither\""
   ]
  },
  {
   "cell_type": "code",
   "execution_count": 2,
   "metadata": {},
   "outputs": [
    {
     "data": {
      "text/plain": [
       "'IPv4'"
      ]
     },
     "execution_count": 2,
     "metadata": {},
     "output_type": "execute_result"
    }
   ],
   "source": [
    "queryIP = \"172.16.254.1\"\n",
    "Solution().validIPAddress(queryIP)"
   ]
  },
  {
   "cell_type": "code",
   "execution_count": 3,
   "metadata": {},
   "outputs": [
    {
     "data": {
      "text/plain": [
       "'IPv6'"
      ]
     },
     "execution_count": 3,
     "metadata": {},
     "output_type": "execute_result"
    }
   ],
   "source": [
    "queryIP = \"2001:0db8:85a3:0:0:8A2E:0370:7334\"\n",
    "Solution().validIPAddress(queryIP)"
   ]
  },
  {
   "cell_type": "code",
   "execution_count": 4,
   "metadata": {},
   "outputs": [
    {
     "data": {
      "text/plain": [
       "'Neither'"
      ]
     },
     "execution_count": 4,
     "metadata": {},
     "output_type": "execute_result"
    }
   ],
   "source": [
    "queryIP = \"256.256.256.256\"\n",
    "Solution().validIPAddress(queryIP)"
   ]
  },
  {
   "cell_type": "code",
   "execution_count": null,
   "metadata": {},
   "outputs": [],
   "source": []
  }
 ],
 "metadata": {
  "kernelspec": {
   "display_name": "Python 3",
   "language": "python",
   "name": "python3"
  },
  "language_info": {
   "codemirror_mode": {
    "name": "ipython",
    "version": 3
   },
   "file_extension": ".py",
   "mimetype": "text/x-python",
   "name": "python",
   "nbconvert_exporter": "python",
   "pygments_lexer": "ipython3",
   "version": "3.11.6"
  }
 },
 "nbformat": 4,
 "nbformat_minor": 2
}
