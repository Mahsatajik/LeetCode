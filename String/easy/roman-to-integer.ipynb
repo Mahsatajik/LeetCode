{
 "cells": [
  {
   "cell_type": "markdown",
   "metadata": {},
   "source": [
    "[Question Link](https://leetcode.com/problems/roman-to-integer/)"
   ]
  },
  {
   "cell_type": "code",
   "execution_count": 5,
   "metadata": {},
   "outputs": [],
   "source": [
    "class Solution:\n",
    "   def romanToInt(self, s: str) -> int:\n",
    "      \n",
    "       roman_to_int = {'I': 1, 'V': 5, 'X': 10, 'L': 50, 'C': 100, 'D': 500, 'M': 1000}\n",
    "\n",
    "\n",
    "       previous_number = roman_to_int[s[-1]]\n",
    "       total = previous_number\n",
    "\n",
    "\n",
    "       for i in range(len(s) - 2, -1, -1):\n",
    "           current_number = roman_to_int[s[i]]\n",
    "\n",
    "\n",
    "           if current_number < previous_number:\n",
    "               total -= current_number\n",
    "           else:\n",
    "               total += current_number\n",
    "\n",
    "\n",
    "           previous_number = current_number\n",
    "\n",
    "\n",
    "       return total\n"
   ]
  },
  {
   "cell_type": "code",
   "execution_count": 13,
   "metadata": {},
   "outputs": [
    {
     "data": {
      "text/plain": [
       "12"
      ]
     },
     "execution_count": 13,
     "metadata": {},
     "output_type": "execute_result"
    }
   ],
   "source": [
    "s = 'XII'\n",
    "Solution().romanToInt(s)"
   ]
  },
  {
   "cell_type": "code",
   "execution_count": null,
   "metadata": {},
   "outputs": [],
   "source": []
  }
 ],
 "metadata": {
  "kernelspec": {
   "display_name": "Python 3",
   "language": "python",
   "name": "python3"
  },
  "language_info": {
   "codemirror_mode": {
    "name": "ipython",
    "version": 3
   },
   "file_extension": ".py",
   "mimetype": "text/x-python",
   "name": "python",
   "nbconvert_exporter": "python",
   "pygments_lexer": "ipython3",
   "version": "3.11.6"
  }
 },
 "nbformat": 4,
 "nbformat_minor": 2
}
