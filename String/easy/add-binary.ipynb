{
 "cells": [
  {
   "cell_type": "markdown",
   "metadata": {},
   "source": [
    "[Question Link](https://leetcode.com/problems/add-binary/description/)"
   ]
  },
  {
   "cell_type": "code",
   "execution_count": 1,
   "metadata": {},
   "outputs": [],
   "source": [
    "class Solution:\n",
    "   def addBinary(self, a: str, b: str) -> str:\n",
    "       ans = [] \n",
    "       i, j, carry = len(a) - 1, len(b) - 1, 0 \n",
    "\n",
    "\n",
    "       while i >= 0 or j >= 0 or carry:\n",
    "           carry += (0 if i < 0 else int(a[i])) + (0 if j < 0 else int(b[j]))\n",
    "\n",
    "\n",
    "           carry, v = divmod(carry, 2)\n",
    "           ans.append(str(v))\n",
    "           i, j = i - 1, j - 1\n",
    "\n",
    "\n",
    "       return \"\".join(ans[::-1])"
   ]
  },
  {
   "cell_type": "code",
   "execution_count": 2,
   "metadata": {},
   "outputs": [
    {
     "data": {
      "text/plain": [
       "'100'"
      ]
     },
     "execution_count": 2,
     "metadata": {},
     "output_type": "execute_result"
    }
   ],
   "source": [
    "a = \"11\"\n",
    "b = \"1\"\n",
    "Solution().addBinary(a, b)"
   ]
  },
  {
   "cell_type": "code",
   "execution_count": null,
   "metadata": {},
   "outputs": [],
   "source": []
  }
 ],
 "metadata": {
  "kernelspec": {
   "display_name": "Python 3",
   "language": "python",
   "name": "python3"
  },
  "language_info": {
   "codemirror_mode": {
    "name": "ipython",
    "version": 3
   },
   "file_extension": ".py",
   "mimetype": "text/x-python",
   "name": "python",
   "nbconvert_exporter": "python",
   "pygments_lexer": "ipython3",
   "version": "3.11.6"
  }
 },
 "nbformat": 4,
 "nbformat_minor": 2
}
