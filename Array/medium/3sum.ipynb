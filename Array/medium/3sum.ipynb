{
 "cells": [
  {
   "cell_type": "markdown",
   "metadata": {},
   "source": [
    "[Question Link](https://leetcode.com/problems/3sum/description/)"
   ]
  },
  {
   "cell_type": "code",
   "execution_count": 2,
   "metadata": {},
   "outputs": [],
   "source": [
    "from typing import List\n",
    "\n",
    "class Solution:\n",
    "    def threeSum(self, nums: List[int]) -> List[List[int]]:\n",
    "        res = []\n",
    "        s = set()\n",
    "        sorted_nums = sorted(nums)\n",
    "        \n",
    "        for i in range(len(sorted_nums)):\n",
    "            p1=i+1\n",
    "            p2=len(sorted_nums)-1\n",
    "            while p1<p2:\n",
    "                \n",
    "                if sorted_nums[i]+sorted_nums[p1]+sorted_nums[p2] == 0:\n",
    "                    res.append((sorted_nums[i],sorted_nums[p1],sorted_nums[p2]))\n",
    "                    p1 +=1\n",
    "                    p2 -=1\n",
    "                elif sorted_nums[i]+sorted_nums[p1]+sorted_nums[p2] < 0:\n",
    "                    p1 +=1\n",
    "                else:\n",
    "                    p2 -=1\n",
    "        res = list(set(res))\n",
    "        return res"
   ]
  },
  {
   "cell_type": "code",
   "execution_count": 3,
   "metadata": {},
   "outputs": [
    {
     "data": {
      "text/plain": [
       "[(-1, 0, 1), (-1, -1, 2)]"
      ]
     },
     "execution_count": 3,
     "metadata": {},
     "output_type": "execute_result"
    }
   ],
   "source": [
    "nums = [-1,0,1,2,-1,-4]\n",
    "Solution().threeSum(nums)"
   ]
  },
  {
   "cell_type": "code",
   "execution_count": null,
   "metadata": {},
   "outputs": [],
   "source": []
  }
 ],
 "metadata": {
  "kernelspec": {
   "display_name": "Python 3",
   "language": "python",
   "name": "python3"
  },
  "language_info": {
   "codemirror_mode": {
    "name": "ipython",
    "version": 3
   },
   "file_extension": ".py",
   "mimetype": "text/x-python",
   "name": "python",
   "nbconvert_exporter": "python",
   "pygments_lexer": "ipython3",
   "version": "3.11.6"
  }
 },
 "nbformat": 4,
 "nbformat_minor": 2
}
