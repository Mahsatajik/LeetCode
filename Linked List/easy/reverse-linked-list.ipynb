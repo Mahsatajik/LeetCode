{
 "cells": [
  {
   "cell_type": "markdown",
   "metadata": {},
   "source": [
    "[Question Link](https://leetcode.com/problems/reverse-linked-list/description/)"
   ]
  },
  {
   "cell_type": "code",
   "execution_count": 15,
   "metadata": {},
   "outputs": [],
   "source": [
    "from typing import Optional\n",
    "\n",
    "class ListNode:\n",
    "   def __init__(self, val=0, next=None):\n",
    "       self.val = val\n",
    "       self.next = next\n",
    "class Solution:\n",
    "   def reverseList(self, head: Optional[ListNode]) -> Optional[ListNode]:\n",
    "   \n",
    "       dummy_node = ListNode()\n",
    "       current_node = head\n",
    "       while current_node is not None:\n",
    "           next_node = current_node.next\n",
    "           current_node.next = dummy_node.next\n",
    "           dummy_node.next = current_node\n",
    "           current_node = next_node\n",
    "       return dummy_node.next"
   ]
  },
  {
   "cell_type": "code",
   "execution_count": 22,
   "metadata": {},
   "outputs": [],
   "source": [
    "def print_list(head: Optional[ListNode]) -> None:\n",
    "    \"\"\"Helper function to print the linked list.\"\"\"\n",
    "    current = head\n",
    "    while current:\n",
    "        print(current.val, end=\" -> \")\n",
    "        current = current.next\n",
    "    print(\"None\")\n"
   ]
  },
  {
   "cell_type": "code",
   "execution_count": 23,
   "metadata": {},
   "outputs": [
    {
     "name": "stdout",
     "output_type": "stream",
     "text": [
      "Original list:\n",
      "1 -> 2 -> 3 -> 4 -> 5 -> None\n",
      "Reversed list:\n",
      "5 -> 4 -> 3 -> 2 -> 1 -> None\n"
     ]
    }
   ],
   "source": [
    "# Creating a list: 1 -> 2 -> 3 -> 4 -> 5 -> None\n",
    "nodes = [ListNode(1), ListNode(2), ListNode(3), ListNode(4), ListNode(5)]\n",
    "for i in range(len(nodes) - 1):\n",
    "    nodes[i].next = nodes[i + 1]\n",
    "\n",
    "# Print the original list\n",
    "print(\"Original list:\")\n",
    "print_list(nodes[0])\n",
    "\n",
    "# Running the reverseList method\n",
    "solution = Solution()\n",
    "reversed_head = solution.reverseList(nodes[0])\n",
    "\n",
    "# Print the reversed list\n",
    "print(\"Reversed list:\")\n",
    "print_list(reversed_head)"
   ]
  },
  {
   "cell_type": "code",
   "execution_count": null,
   "metadata": {},
   "outputs": [],
   "source": []
  }
 ],
 "metadata": {
  "kernelspec": {
   "display_name": "Python 3",
   "language": "python",
   "name": "python3"
  },
  "language_info": {
   "codemirror_mode": {
    "name": "ipython",
    "version": 3
   },
   "file_extension": ".py",
   "mimetype": "text/x-python",
   "name": "python",
   "nbconvert_exporter": "python",
   "pygments_lexer": "ipython3",
   "version": "3.11.6"
  }
 },
 "nbformat": 4,
 "nbformat_minor": 2
}
