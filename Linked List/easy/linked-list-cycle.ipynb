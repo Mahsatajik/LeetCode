{
 "cells": [
  {
   "cell_type": "markdown",
   "metadata": {},
   "source": [
    "[Question Link](https://leetcode.com/problems/linked-list-cycle/description/)"
   ]
  },
  {
   "cell_type": "code",
   "execution_count": 7,
   "metadata": {},
   "outputs": [],
   "source": [
    "from typing import Optional\n",
    "\n",
    "# Definition for singly-linked list.\n",
    "class ListNode:\n",
    "    def __init__(self, x):\n",
    "        self.val = x\n",
    "        self.next = None\n",
    "\n",
    "class Solution:\n",
    "    def hasCycle(self, head: Optional[ListNode]) -> bool:\n",
    "        slow_pointer = head\n",
    "        fast_pointer = head\n",
    "        while fast_pointer and fast_pointer.next:\n",
    "            slow_pointer = slow_pointer.next\n",
    "            fast_pointer = fast_pointer.next.next\n",
    "            if slow_pointer == fast_pointer:\n",
    "                return True\n",
    "        return False"
   ]
  },
  {
   "cell_type": "code",
   "execution_count": 14,
   "metadata": {},
   "outputs": [],
   "source": [
    "# Helper function to create a cycle in the linked list\n",
    "def create_cycle(nodes, pos):\n",
    "    if pos == -1:\n",
    "        return\n",
    "    cycle_start = nodes[pos]\n",
    "    nodes[-1].next = cycle_start"
   ]
  },
  {
   "cell_type": "code",
   "execution_count": 15,
   "metadata": {},
   "outputs": [
    {
     "name": "stdout",
     "output_type": "stream",
     "text": [
      "True\n"
     ]
    }
   ],
   "source": [
    "# Creating a list: 3 -> 2 -> 0 -> -4, with a cycle starting at node 1 (value 2)\n",
    "nodes = [ListNode(3), ListNode(2), ListNode(0), ListNode(-4)]\n",
    "for i in range(len(nodes) - 1):\n",
    "    nodes[i].next = nodes[i + 1]\n",
    "\n",
    "# Creating a cycle at position 1\n",
    "create_cycle(nodes, 1)\n",
    "\n",
    "\n",
    "solution = Solution()\n",
    "print(solution.hasCycle(nodes[0]))  "
   ]
  },
  {
   "cell_type": "code",
   "execution_count": null,
   "metadata": {},
   "outputs": [],
   "source": []
  }
 ],
 "metadata": {
  "kernelspec": {
   "display_name": "Python 3",
   "language": "python",
   "name": "python3"
  },
  "language_info": {
   "codemirror_mode": {
    "name": "ipython",
    "version": 3
   },
   "file_extension": ".py",
   "mimetype": "text/x-python",
   "name": "python",
   "nbconvert_exporter": "python",
   "pygments_lexer": "ipython3",
   "version": "3.11.6"
  }
 },
 "nbformat": 4,
 "nbformat_minor": 2
}
