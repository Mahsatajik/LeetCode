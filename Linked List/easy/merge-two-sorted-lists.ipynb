{
 "cells": [
  {
   "cell_type": "markdown",
   "metadata": {},
   "source": [
    "[Question Link](https://leetcode.com/problems/merge-two-sorted-lists/description/)"
   ]
  },
  {
   "cell_type": "code",
   "execution_count": 6,
   "metadata": {},
   "outputs": [],
   "source": [
    "from typing import Optional\n",
    "\n",
    "# Definition for singly-linked list.\n",
    "class ListNode:\n",
    "    def __init__(self, val=0, next=None):\n",
    "        self.val = val\n",
    "        self.next = next\n",
    "class Solution:\n",
    "    def mergeTwoLists(self, list1: Optional[ListNode], list2: Optional[ListNode]) -> Optional[ListNode]:\n",
    "       f = new_list = ListNode\n",
    "       while list1 != None and list2 != None:\n",
    "\n",
    "           if list1.val < list2.val:\n",
    "               new_list.next = list1\n",
    "               list1 = list1.next\n",
    "           else:\n",
    "               new_list.next = list2\n",
    "               list2 = list2.next\n",
    "              \n",
    "           new_list = new_list.next\n",
    "\n",
    "\n",
    "       new_list.next = list1 or list2 \n",
    "      \n",
    "       return f.next"
   ]
  },
  {
   "cell_type": "code",
   "execution_count": 12,
   "metadata": {},
   "outputs": [
    {
     "data": {
      "text/plain": [
       "<__main__.ListNode at 0x1171ea150>"
      ]
     },
     "execution_count": 12,
     "metadata": {},
     "output_type": "execute_result"
    }
   ],
   "source": [
    "list1 = ListNode([1,2,4])\n",
    "list2 = ListNode([1,3,4])\n",
    "Solution().mergeTwoLists(list1, list2)\n",
    "list2"
   ]
  },
  {
   "cell_type": "code",
   "execution_count": null,
   "metadata": {},
   "outputs": [],
   "source": []
  }
 ],
 "metadata": {
  "kernelspec": {
   "display_name": "Python 3",
   "language": "python",
   "name": "python3"
  },
  "language_info": {
   "codemirror_mode": {
    "name": "ipython",
    "version": 3
   },
   "file_extension": ".py",
   "mimetype": "text/x-python",
   "name": "python",
   "nbconvert_exporter": "python",
   "pygments_lexer": "ipython3",
   "version": "3.11.6"
  }
 },
 "nbformat": 4,
 "nbformat_minor": 2
}
